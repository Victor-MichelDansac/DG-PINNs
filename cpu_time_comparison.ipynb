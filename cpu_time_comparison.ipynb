{
 "cells": [
  {
   "cell_type": "code",
   "execution_count": null,
   "metadata": {},
   "outputs": [],
   "source": [
    "import numpy as np\n",
    "from mesh import solve"
   ]
  },
  {
   "cell_type": "code",
   "execution_count": null,
   "metadata": {},
   "outputs": [],
   "source": [
    "def cpu_time_comparison(**kwargs):\n",
    "\n",
    "    default_categories = [\n",
    "        \"no_prior\",\n",
    "        \"with_prior_additive\",\n",
    "    ]\n",
    "    default_nG = [1, 2, 3, 4]\n",
    "    default_nx = 10 * 2 ** np.arange(5)\n",
    "\n",
    "    categories = kwargs.get(\"categories\", default_categories)\n",
    "    all_nG = kwargs.get(\"all_nG\", default_nG)\n",
    "    all_nx = kwargs.get(\"all_nx\", default_nx)\n",
    "    n_runs = kwargs.get(\"n_runs\", 5)\n",
    "\n",
    "    cpu_times_mesh = np.zeros((n_runs, len(all_nx), len(all_nG), len(categories)))\n",
    "    cpu_times_scheme = np.zeros((n_runs, len(all_nx), len(all_nG), len(categories)))\n",
    "\n",
    "    for i_run in range(n_runs):\n",
    "        print(f\"run {i_run + 1}/{n_runs}\")\n",
    "        for i_nx, nx in enumerate(all_nx):\n",
    "            for i_nG, nG in enumerate(all_nG):\n",
    "                for i_c, category in enumerate(categories):\n",
    "                    W, M = solve(category, nx, nG, True, 0.5, False)\n",
    "                    cpu_times_mesh[i_run, i_nx, i_nG, i_c] = M.cpu_time_mesh\n",
    "                    cpu_times_scheme[i_run, i_nx, i_nG, i_c] = M.cpu_time_scheme\n",
    "\n",
    "    cpu_times_mesh = np.mean(np.sort(cpu_times_mesh, axis=0)[:3], axis=0)\n",
    "    cpu_times_scheme = np.mean(np.sort(cpu_times_scheme, axis=0)[:3], axis=0)\n",
    "\n",
    "    print()\n",
    "\n",
    "    def to_ltx(f):\n",
    "        float_str = f\"{f:3.2e}\"\n",
    "        if \"e\" in float_str:\n",
    "            base, exponent = float_str.split(\"e\")\n",
    "            return rf\"${base} \\cdot 10^{{{int(exponent)}}}$\"\n",
    "        else:\n",
    "            return float_str\n",
    "\n",
    "    for i_nG, nG in enumerate(all_nG):\n",
    "        string = f\"results for q = {nG - 1} \\n \\\\toprule \\n\"\n",
    "        string += \" & \\\\multicolumn{3}{c}{basis $V_h$} & \\\\multicolumn{3}{c}{basis $V_h^+$} & \\\\\\\\ \\n\"\n",
    "        string += \"\\\\cmidrule(lr){2-4}\\\\cmidrule(lr){5-7}\\n\"\n",
    "        string += \"$K$\"\n",
    "        string += \"\".join([\" & assembly & scheme & total\" for category in categories])\n",
    "        string += \" & ratio \\\\\\\\ \\n\"\n",
    "        string += \"\\\\cmidrule(lr){1-1}\\\\cmidrule(lr){2-4}\\\\cmidrule(lr){5-7}\\\\cmidrule(lr){8-8}\\n\"\n",
    "\n",
    "        for i_nx, nx in enumerate(all_nx):\n",
    "            string += f\"{nx:3d} \"\n",
    "            total = []\n",
    "            for i_c, category in enumerate(categories):\n",
    "                mesh = cpu_times_mesh[i_nx, i_nG, i_c]\n",
    "                scheme = cpu_times_scheme[i_nx, i_nG, i_c]\n",
    "                total.append(mesh + scheme)\n",
    "                string += f\"& {to_ltx(mesh)} & {to_ltx(scheme)} & {to_ltx(total[-1])}\"\n",
    "            string += f\"& {total[1] / total[0]: 3.2f}\"\n",
    "            string += \" \\\\\\\\ \\n\"\n",
    "        string += \"\\\\bottomrule \\n\"\n",
    "\n",
    "        print(string)"
   ]
  },
  {
   "cell_type": "code",
   "execution_count": null,
   "metadata": {},
   "outputs": [],
   "source": [
    "cpu_time_comparison(n_runs=100)"
   ]
  },
  {
   "cell_type": "code",
   "execution_count": null,
   "metadata": {},
   "outputs": [],
   "source": [
    "import os\n",
    "\n",
    "from model import Network"
   ]
  },
  {
   "cell_type": "code",
   "execution_count": null,
   "metadata": {},
   "outputs": [],
   "source": [
    "epochs_and_times = []\n",
    "n_simu = 10\n",
    "\n",
    "for i_l, layer_sizes in enumerate(\n",
    "    [\n",
    "        [4, 16, 32, 16, 5],\n",
    "        [4, 16, 32, 32, 16, 5],\n",
    "        [4, 16, 32, 64, 32, 16, 5],\n",
    "    ]\n",
    "):\n",
    "    for i in range(n_simu):\n",
    "\n",
    "        print(f\"Layer sizes: {i_l}, Simu: {i+1}/{n_simu}\")\n",
    "\n",
    "        try:\n",
    "            os.remove(\"temp.pth\")\n",
    "        except FileNotFoundError:\n",
    "            pass\n",
    "\n",
    "        model = Network(file_name=\"temp.pth\", layer_sizes=layer_sizes)\n",
    "        model.train(n_epochs=25_000, n_collocation=5_000, n_data=0, plot=False)\n",
    "\n",
    "        print(model.epochs_and_times)\n",
    "        epochs_and_times.append(model.epochs_and_times)\n",
    "\n",
    "print()\n",
    "print(\"#############################################\")\n",
    "print(epochs_and_times)\n",
    "print(\"#############################################\")\n",
    "\n",
    "with open(r\"cpu_time_model.txt\", \"w\") as file:\n",
    "    file.write(\"\\n\".join(str(item) for item in epochs_and_times))"
   ]
  },
  {
   "cell_type": "code",
   "execution_count": null,
   "metadata": {},
   "outputs": [],
   "source": [
    "model.plot_result()"
   ]
  }
 ],
 "metadata": {
  "kernelspec": {
   "display_name": "Python 3",
   "language": "python",
   "name": "python3"
  },
  "language_info": {
   "codemirror_mode": {
    "name": "ipython",
    "version": 3
   },
   "file_extension": ".py",
   "mimetype": "text/x-python",
   "name": "python",
   "nbconvert_exporter": "python",
   "pygments_lexer": "ipython3",
   "version": "3.11.3"
  }
 },
 "nbformat": 4,
 "nbformat_minor": 2
}
