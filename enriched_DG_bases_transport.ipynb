{
 "cells": [
  {
   "cell_type": "code",
   "execution_count": null,
   "metadata": {},
   "outputs": [],
   "source": [
    "\"\"\"\n",
    "@author: Victor Michel-Dansac\n",
    "\"\"\"\n",
    "\n",
    "try:\n",
    "    !git clone https://github.com/Victor-MichelDansac/DG-PINNs.git\n",
    "except:\n",
    "    pass\n",
    "\n",
    "try:\n",
    "    %cd /content/DG-PINNs\n",
    "except:\n",
    "    pass\n"
   ]
  },
  {
   "cell_type": "markdown",
   "metadata": {},
   "source": [
    "## Approximately well-balanced Discontinuous Galerkin methods using bases enriched with Physics-Informed Neural Networks\n",
    "\n",
    "This notebook aims at replicating some experiments from the article entitled `Approximately well-balanced Discontinuous Galerkin methods using bases enriched with Physics-Informed Neural Networks`, by Emmanuel Franck (<emmanuel.franck@inria.fr>), Victor Michel-Dansac (<victor.michel-dansac@inria.fr>) and Laurent Navoret (<laurent.navoret@math.unistra.fr>).\n",
    "\n",
    "The problem under consideration is the advection equation with source term, with velocity $c = 1$:\n",
    "$$\n",
    "    \\frac{\\partial u}{\\partial t} + \\frac{\\partial u}{\\partial x} = a u + b u^2.\n",
    "$$\n",
    "The unknown function is $u : \\mathbb{R}^+ \\times \\mathbb{R} \\to \\mathbb{R}$, which depends on the time variable $t \\geq 0$ and the space variable $x$.\n",
    "\n",
    "The space domain is $x \\in (0, 1)$, and the system parameters are:\n",
    "- $a \\in (0.5, 1)$, \n",
    "- $b \\in (0.5, 1)$, \n",
    "- $u_0 \\in (0.1, 0.2)$ the left boundary condtion: $u(t, 0) = u_0$ for all $t \\geq 0$."
   ]
  },
  {
   "cell_type": "code",
   "execution_count": null,
   "metadata": {},
   "outputs": [],
   "source": [
    "# necessary imports and pytorch setup\n",
    "\n",
    "import os\n",
    "\n",
    "import DG_scheme\n",
    "import matplotlib.pyplot as plt\n",
    "import numpy as np\n",
    "import torch\n",
    "from mesh import Mesh, run_and_plot, run_perturbation_analysis\n",
    "from model import Network\n",
    "from torch.autograd import grad\n",
    "\n",
    "device = torch.device(\"cuda\" if torch.cuda.is_available() else \"cpu\")\n",
    "print(f\"torch loaded; device is {device}\")\n",
    "\n",
    "torch.set_default_dtype(torch.double)\n",
    "torch.set_default_device(device)\n"
   ]
  },
  {
   "cell_type": "markdown",
   "metadata": {},
   "source": [
    "### 1/ PINN training"
   ]
  },
  {
   "cell_type": "code",
   "execution_count": null,
   "metadata": {},
   "outputs": [],
   "source": [
    "train = True  # trains the model\n",
    "# train = False  # uses the trained model (only available after training)\n",
    "\n",
    "if train:\n",
    "    # new_training = False  # restarts training with the existing trained model\n",
    "    new_training = True  # deletes the existing model and start a new training\n",
    "\n",
    "    if new_training:\n",
    "        try:\n",
    "            os.remove(Network.DEFAULT_FILE_NAME)\n",
    "        except FileNotFoundError:\n",
    "            pass\n",
    "\n",
    "    model = Network()\n",
    "\n",
    "    n_epochs = 500  # number of epochs\n",
    "    n_collocation = 10_000  # number of collocation points (for the PDE loss)\n",
    "    n_data = 0  # number of data points (for the data loss)\n",
    "    model.train(n_epochs=n_epochs, n_collocation=n_collocation, n_data=n_data)\n",
    "\n",
    "else:\n",
    "    model = Network()\n",
    "    model.plot_result(random=True, n_plots=5)\n"
   ]
  },
  {
   "cell_type": "markdown",
   "metadata": {},
   "source": [
    "### 2/ Discontinuous Galerkin basis functions with prior\n",
    "\n",
    "Once the model has been satisfactorily trained (say, once the value of the loss function is lower than $10^{-5}$), one can add it as a prior to the DG scheme."
   ]
  },
  {
   "cell_type": "code",
   "execution_count": null,
   "metadata": {},
   "outputs": [],
   "source": [
    "# choose the basis categories you wish to test\n",
    "categories = [\n",
    "    \"no_prior\",\n",
    "    \"with_prior_additive\",\n",
    "    \"with_prior_multiplicative\",\n",
    "]\n",
    "\n",
    "# perturbed_initial_condition = True  # runs a perturbation analysis\n",
    "perturbed_initial_condition = False  # check the scheme output\n",
    "\n",
    "# in both cases, available optional arguments are:\n",
    "#   nx, integer, the number of space points\n",
    "#   nG, integer, the number of basis function\n",
    "#   source, bool, whether to add the source term\n",
    "#   end_time, float, the final computation time\n",
    "\n",
    "if perturbed_initial_condition:\n",
    "    run_perturbation_analysis(categories)\n",
    "else:\n",
    "    source = True  # approximation of a steady solution\n",
    "    # source = False  # pure advection of a Gaussian bump\n",
    "    run_and_plot(categories, source=source)\n"
   ]
  }
 ],
 "metadata": {
  "kernelspec": {
   "display_name": "Python 3",
   "language": "python",
   "name": "python3"
  },
  "language_info": {
   "codemirror_mode": {
    "name": "ipython",
    "version": 3
   },
   "file_extension": ".py",
   "mimetype": "text/x-python",
   "name": "python",
   "nbconvert_exporter": "python",
   "pygments_lexer": "ipython3",
   "version": "3.11.6"
  },
  "orig_nbformat": 4
 },
 "nbformat": 4,
 "nbformat_minor": 2
}
